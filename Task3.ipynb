{
  "nbformat": 4,
  "nbformat_minor": 0,
  "metadata": {
    "colab": {
      "name": "Task3.ipynb",
      "provenance": [],
      "authorship_tag": "ABX9TyOq6NzSfOOIvd4NKBTsqvHs",
      "include_colab_link": true
    },
    "kernelspec": {
      "name": "python3",
      "display_name": "Python 3"
    },
    "language_info": {
      "name": "python"
    }
  },
  "cells": [
    {
      "cell_type": "markdown",
      "metadata": {
        "id": "view-in-github",
        "colab_type": "text"
      },
      "source": [
        "<a href=\"https://colab.research.google.com/github/kashish00/Machine-Learning-Projects-TSF/blob/main/Task3.ipynb\" target=\"_parent\"><img src=\"https://colab.research.google.com/assets/colab-badge.svg\" alt=\"Open In Colab\"/></a>"
      ]
    },
    {
      "cell_type": "markdown",
      "metadata": {
        "id": "jlWRHqHZLuRO"
      },
      "source": [
        "**EXPLORATORY DATA ANALYSIS- RETAIL**\n",
        "\n",
        "● Perform EDA on dataset ‘SampleSuperstore’\n",
        "\n",
        "● As a business manager, try to find out the weak areas where you can\n",
        "  work to make more profit.\n",
        "\n",
        "● What all business problems you can derive by exploring the data?\n",
        "\n",
        "● Dataset: https://bit.ly/3i4rbWl\n"
      ]
    },
    {
      "cell_type": "code",
      "metadata": {
        "id": "WUD4oE1SFf4B"
      },
      "source": [
        "#importing libraries\n",
        "import numpy as np\n",
        "import pandas as pd\n",
        "import matplotlib.pyplot as plt\n",
        "%matplotlib inline\n",
        "import seaborn as sns"
      ],
      "execution_count": null,
      "outputs": []
    },
    {
      "cell_type": "code",
      "metadata": {
        "id": "Q7yNygiEF87y"
      },
      "source": [
        "df=pd.read_csv(\"/content/SampleSuperstore.csv\")"
      ],
      "execution_count": null,
      "outputs": []
    },
    {
      "cell_type": "code",
      "metadata": {
        "colab": {
          "base_uri": "https://localhost:8080/",
          "height": 204
        },
        "id": "v1SDN-gLGCq-",
        "outputId": "9c75282b-c6d0-42d6-9b44-506ffe20b6bc"
      },
      "source": [
        "df.head()"
      ],
      "execution_count": null,
      "outputs": [
        {
          "output_type": "execute_result",
          "data": {
            "text/html": [
              "<div>\n",
              "<style scoped>\n",
              "    .dataframe tbody tr th:only-of-type {\n",
              "        vertical-align: middle;\n",
              "    }\n",
              "\n",
              "    .dataframe tbody tr th {\n",
              "        vertical-align: top;\n",
              "    }\n",
              "\n",
              "    .dataframe thead th {\n",
              "        text-align: right;\n",
              "    }\n",
              "</style>\n",
              "<table border=\"1\" class=\"dataframe\">\n",
              "  <thead>\n",
              "    <tr style=\"text-align: right;\">\n",
              "      <th></th>\n",
              "      <th>Ship Mode</th>\n",
              "      <th>Segment</th>\n",
              "      <th>Country</th>\n",
              "      <th>City</th>\n",
              "      <th>State</th>\n",
              "      <th>Postal Code</th>\n",
              "      <th>Region</th>\n",
              "      <th>Category</th>\n",
              "      <th>Sub-Category</th>\n",
              "      <th>Sales</th>\n",
              "      <th>Quantity</th>\n",
              "      <th>Discount</th>\n",
              "      <th>Profit</th>\n",
              "    </tr>\n",
              "  </thead>\n",
              "  <tbody>\n",
              "    <tr>\n",
              "      <th>0</th>\n",
              "      <td>Second Class</td>\n",
              "      <td>Consumer</td>\n",
              "      <td>United States</td>\n",
              "      <td>Henderson</td>\n",
              "      <td>Kentucky</td>\n",
              "      <td>42420</td>\n",
              "      <td>South</td>\n",
              "      <td>Furniture</td>\n",
              "      <td>Bookcases</td>\n",
              "      <td>261.9600</td>\n",
              "      <td>2</td>\n",
              "      <td>0.00</td>\n",
              "      <td>41.9136</td>\n",
              "    </tr>\n",
              "    <tr>\n",
              "      <th>1</th>\n",
              "      <td>Second Class</td>\n",
              "      <td>Consumer</td>\n",
              "      <td>United States</td>\n",
              "      <td>Henderson</td>\n",
              "      <td>Kentucky</td>\n",
              "      <td>42420</td>\n",
              "      <td>South</td>\n",
              "      <td>Furniture</td>\n",
              "      <td>Chairs</td>\n",
              "      <td>731.9400</td>\n",
              "      <td>3</td>\n",
              "      <td>0.00</td>\n",
              "      <td>219.5820</td>\n",
              "    </tr>\n",
              "    <tr>\n",
              "      <th>2</th>\n",
              "      <td>Second Class</td>\n",
              "      <td>Corporate</td>\n",
              "      <td>United States</td>\n",
              "      <td>Los Angeles</td>\n",
              "      <td>California</td>\n",
              "      <td>90036</td>\n",
              "      <td>West</td>\n",
              "      <td>Office Supplies</td>\n",
              "      <td>Labels</td>\n",
              "      <td>14.6200</td>\n",
              "      <td>2</td>\n",
              "      <td>0.00</td>\n",
              "      <td>6.8714</td>\n",
              "    </tr>\n",
              "    <tr>\n",
              "      <th>3</th>\n",
              "      <td>Standard Class</td>\n",
              "      <td>Consumer</td>\n",
              "      <td>United States</td>\n",
              "      <td>Fort Lauderdale</td>\n",
              "      <td>Florida</td>\n",
              "      <td>33311</td>\n",
              "      <td>South</td>\n",
              "      <td>Furniture</td>\n",
              "      <td>Tables</td>\n",
              "      <td>957.5775</td>\n",
              "      <td>5</td>\n",
              "      <td>0.45</td>\n",
              "      <td>-383.0310</td>\n",
              "    </tr>\n",
              "    <tr>\n",
              "      <th>4</th>\n",
              "      <td>Standard Class</td>\n",
              "      <td>Consumer</td>\n",
              "      <td>United States</td>\n",
              "      <td>Fort Lauderdale</td>\n",
              "      <td>Florida</td>\n",
              "      <td>33311</td>\n",
              "      <td>South</td>\n",
              "      <td>Office Supplies</td>\n",
              "      <td>Storage</td>\n",
              "      <td>22.3680</td>\n",
              "      <td>2</td>\n",
              "      <td>0.20</td>\n",
              "      <td>2.5164</td>\n",
              "    </tr>\n",
              "  </tbody>\n",
              "</table>\n",
              "</div>"
            ],
            "text/plain": [
              "        Ship Mode    Segment        Country  ... Quantity Discount    Profit\n",
              "0    Second Class   Consumer  United States  ...        2     0.00   41.9136\n",
              "1    Second Class   Consumer  United States  ...        3     0.00  219.5820\n",
              "2    Second Class  Corporate  United States  ...        2     0.00    6.8714\n",
              "3  Standard Class   Consumer  United States  ...        5     0.45 -383.0310\n",
              "4  Standard Class   Consumer  United States  ...        2     0.20    2.5164\n",
              "\n",
              "[5 rows x 13 columns]"
            ]
          },
          "metadata": {
            "tags": []
          },
          "execution_count": 3
        }
      ]
    },
    {
      "cell_type": "code",
      "metadata": {
        "colab": {
          "base_uri": "https://localhost:8080/"
        },
        "id": "J1onmrHxGGTU",
        "outputId": "6208b325-dd93-41bb-c2d1-0b22fb000e29"
      },
      "source": [
        "#checking for null values\n",
        "df.isna().sum()"
      ],
      "execution_count": null,
      "outputs": [
        {
          "output_type": "execute_result",
          "data": {
            "text/plain": [
              "Ship Mode       0\n",
              "Segment         0\n",
              "Country         0\n",
              "City            0\n",
              "State           0\n",
              "Postal Code     0\n",
              "Region          0\n",
              "Category        0\n",
              "Sub-Category    0\n",
              "Sales           0\n",
              "Quantity        0\n",
              "Discount        0\n",
              "Profit          0\n",
              "dtype: int64"
            ]
          },
          "metadata": {
            "tags": []
          },
          "execution_count": 4
        }
      ]
    },
    {
      "cell_type": "markdown",
      "metadata": {
        "id": "EZg74c7YHVAj"
      },
      "source": [
        "No null values \n"
      ]
    },
    {
      "cell_type": "code",
      "metadata": {
        "colab": {
          "base_uri": "https://localhost:8080/"
        },
        "id": "UetTQwCHHS_B",
        "outputId": "70e36e15-3c0e-460e-81c8-f95d065a8128"
      },
      "source": [
        "#number of rows and columns respectively\n",
        "df.shape "
      ],
      "execution_count": null,
      "outputs": [
        {
          "output_type": "execute_result",
          "data": {
            "text/plain": [
              "(9994, 13)"
            ]
          },
          "metadata": {
            "tags": []
          },
          "execution_count": 5
        }
      ]
    },
    {
      "cell_type": "code",
      "metadata": {
        "colab": {
          "base_uri": "https://localhost:8080/"
        },
        "id": "N76zTeWkHgTe",
        "outputId": "c61c86c4-7c35-468b-b055-76236d414bb1"
      },
      "source": [
        "#count of each category under shipment mode\n",
        "df[\"Ship Mode\"].value_counts()"
      ],
      "execution_count": null,
      "outputs": [
        {
          "output_type": "execute_result",
          "data": {
            "text/plain": [
              "Standard Class    5968\n",
              "Second Class      1945\n",
              "First Class       1538\n",
              "Same Day           543\n",
              "Name: Ship Mode, dtype: int64"
            ]
          },
          "metadata": {
            "tags": []
          },
          "execution_count": 6
        }
      ]
    },
    {
      "cell_type": "code",
      "metadata": {
        "colab": {
          "base_uri": "https://localhost:8080/"
        },
        "id": "APw0-sfSI9Jg",
        "outputId": "cf56b0f6-7bfd-4f70-949a-48cd86e33172"
      },
      "source": [
        "df.Country.nunique(dropna= True)"
      ],
      "execution_count": null,
      "outputs": [
        {
          "output_type": "execute_result",
          "data": {
            "text/plain": [
              "1"
            ]
          },
          "metadata": {
            "tags": []
          },
          "execution_count": 7
        }
      ]
    },
    {
      "cell_type": "code",
      "metadata": {
        "id": "ltWLT2BEJe7T"
      },
      "source": [
        "#dropping the country column as there is only 1 unique value and thus wont affect the profit\n",
        "df = df.drop([\"Country\"],axis=1)"
      ],
      "execution_count": null,
      "outputs": []
    },
    {
      "cell_type": "code",
      "metadata": {
        "colab": {
          "base_uri": "https://localhost:8080/"
        },
        "id": "HkC1wnwdJ4yz",
        "outputId": "3622f72f-ebbd-4f60-c3f0-d1b69ec5ba2f"
      },
      "source": [
        "#count of each category under segment\n",
        "df[\"Segment\"].value_counts()"
      ],
      "execution_count": null,
      "outputs": [
        {
          "output_type": "execute_result",
          "data": {
            "text/plain": [
              "Consumer       5191\n",
              "Corporate      3020\n",
              "Home Office    1783\n",
              "Name: Segment, dtype: int64"
            ]
          },
          "metadata": {
            "tags": []
          },
          "execution_count": 9
        }
      ]
    },
    {
      "cell_type": "code",
      "metadata": {
        "colab": {
          "base_uri": "https://localhost:8080/"
        },
        "id": "GJl3UtJwKKgM",
        "outputId": "4e9d6ee3-b3f9-48eb-c5ee-9ffbe5542dd5"
      },
      "source": [
        "#count of each category under postal code\n",
        "df[\"Postal Code\"].value_counts()"
      ],
      "execution_count": null,
      "outputs": [
        {
          "output_type": "execute_result",
          "data": {
            "text/plain": [
              "10035    263\n",
              "10024    230\n",
              "10009    229\n",
              "94122    203\n",
              "10011    193\n",
              "        ... \n",
              "33458      1\n",
              "95616      1\n",
              "48307      1\n",
              "61832      1\n",
              "59102      1\n",
              "Name: Postal Code, Length: 631, dtype: int64"
            ]
          },
          "metadata": {
            "tags": []
          },
          "execution_count": 10
        }
      ]
    },
    {
      "cell_type": "code",
      "metadata": {
        "id": "wtbwrOgtKQ8u"
      },
      "source": [
        "#dropping postal code column as it does not have much affect on the profits made\n",
        "df = df.drop([\"Postal Code\"],axis=1)"
      ],
      "execution_count": null,
      "outputs": []
    },
    {
      "cell_type": "code",
      "metadata": {
        "colab": {
          "base_uri": "https://localhost:8080/"
        },
        "id": "NKCiJdJdKXC1",
        "outputId": "34deadc7-2d22-456e-8ed3-1f4593fd7340"
      },
      "source": [
        "df.shape"
      ],
      "execution_count": null,
      "outputs": [
        {
          "output_type": "execute_result",
          "data": {
            "text/plain": [
              "(9994, 11)"
            ]
          },
          "metadata": {
            "tags": []
          },
          "execution_count": 12
        }
      ]
    },
    {
      "cell_type": "code",
      "metadata": {
        "colab": {
          "base_uri": "https://localhost:8080/"
        },
        "id": "NvLpOVBgKcdq",
        "outputId": "3825e54a-1e32-4179-dc75-3386b680c220"
      },
      "source": [
        "#checking for duplicate values\n",
        "df.duplicated().sum()"
      ],
      "execution_count": null,
      "outputs": [
        {
          "output_type": "execute_result",
          "data": {
            "text/plain": [
              "50"
            ]
          },
          "metadata": {
            "tags": []
          },
          "execution_count": 13
        }
      ]
    },
    {
      "cell_type": "code",
      "metadata": {
        "id": "jUSCBpdbKkFB"
      },
      "source": [
        "#dropping the duplicate values\n",
        "df.drop_duplicates(inplace=True)"
      ],
      "execution_count": null,
      "outputs": []
    },
    {
      "cell_type": "code",
      "metadata": {
        "colab": {
          "base_uri": "https://localhost:8080/"
        },
        "id": "FaWGEvs1KrIX",
        "outputId": "9ace67bc-bd55-4caa-9d64-8c8baf4bbddf"
      },
      "source": [
        "df.duplicated().sum()"
      ],
      "execution_count": null,
      "outputs": [
        {
          "output_type": "execute_result",
          "data": {
            "text/plain": [
              "0"
            ]
          },
          "metadata": {
            "tags": []
          },
          "execution_count": 15
        }
      ]
    },
    {
      "cell_type": "markdown",
      "metadata": {
        "id": "5v8h6fqsMIt1"
      },
      "source": [
        "Now, no duplicate values."
      ]
    },
    {
      "cell_type": "markdown",
      "metadata": {
        "id": "bhAbye2oLl7U"
      },
      "source": [
        "**Visualization through graphs**"
      ]
    },
    {
      "cell_type": "code",
      "metadata": {
        "colab": {
          "base_uri": "https://localhost:8080/",
          "height": 350
        },
        "id": "4TxJ-GpcKu9V",
        "outputId": "0ffc3cbd-0d62-4d6d-f059-2007a85b1c26"
      },
      "source": [
        "sns.distplot(df[\"Quantity\"])"
      ],
      "execution_count": null,
      "outputs": [
        {
          "output_type": "stream",
          "text": [
            "/usr/local/lib/python3.7/dist-packages/seaborn/distributions.py:2557: FutureWarning: `distplot` is a deprecated function and will be removed in a future version. Please adapt your code to use either `displot` (a figure-level function with similar flexibility) or `histplot` (an axes-level function for histograms).\n",
            "  warnings.warn(msg, FutureWarning)\n"
          ],
          "name": "stderr"
        },
        {
          "output_type": "execute_result",
          "data": {
            "text/plain": [
              "<matplotlib.axes._subplots.AxesSubplot at 0x7fa17797d650>"
            ]
          },
          "metadata": {
            "tags": []
          },
          "execution_count": 16
        },
        {
          "output_type": "display_data",
          "data": {
            "image/png": "[encoded data removed]",
            "text/plain": [
              "<Figure size 432x288 with 1 Axes>"
            ]
          },
          "metadata": {
            "tags": [],
            "needs_background": "light"
          }
        }
      ]
    },
    {
      "cell_type": "markdown",
      "metadata": {
        "id": "YLUPQdk9OOqz"
      },
      "source": [
        "We can see that for quantities 2 and 3 , the count is highest"
      ]
    },
    {
      "cell_type": "code",
      "metadata": {
        "colab": {
          "base_uri": "https://localhost:8080/",
          "height": 350
        },
        "id": "MlTPz6HiNeX3",
        "outputId": "68c8aef5-143b-44a7-851c-9ee5f715429e"
      },
      "source": [
        "sns.distplot(df[\"Discount\"])"
      ],
      "execution_count": null,
      "outputs": [
        {
          "output_type": "stream",
          "text": [
            "/usr/local/lib/python3.7/dist-packages/seaborn/distributions.py:2557: FutureWarning: `distplot` is a deprecated function and will be removed in a future version. Please adapt your code to use either `displot` (a figure-level function with similar flexibility) or `histplot` (an axes-level function for histograms).\n",
            "  warnings.warn(msg, FutureWarning)\n"
          ],
          "name": "stderr"
        },
        {
          "output_type": "execute_result",
          "data": {
            "text/plain": [
              "<matplotlib.axes._subplots.AxesSubplot at 0x7fa174d410d0>"
            ]
          },
          "metadata": {
            "tags": []
          },
          "execution_count": 17
        },
        {
          "output_type": "display_data",
          "data": {
            "image/png": "[encoded data removed]",
            "text/plain": [
              "<Figure size 432x288 with 1 Axes>"
            ]
          },
          "metadata": {
            "tags": [],
            "needs_background": "light"
          }
        }
      ]
    },
    {
      "cell_type": "code",
      "metadata": {
        "colab": {
          "base_uri": "https://localhost:8080/",
          "height": 351
        },
        "id": "WxVcdGDUNrOq",
        "outputId": "71e7e5f4-8d7f-4d95-e8c9-971c22bf9adc"
      },
      "source": [
        "sns.distplot(df[\"Profit\"])"
      ],
      "execution_count": null,
      "outputs": [
        {
          "output_type": "stream",
          "text": [
            "/usr/local/lib/python3.7/dist-packages/seaborn/distributions.py:2557: FutureWarning: `distplot` is a deprecated function and will be removed in a future version. Please adapt your code to use either `displot` (a figure-level function with similar flexibility) or `histplot` (an axes-level function for histograms).\n",
            "  warnings.warn(msg, FutureWarning)\n"
          ],
          "name": "stderr"
        },
        {
          "output_type": "execute_result",
          "data": {
            "text/plain": [
              "<matplotlib.axes._subplots.AxesSubplot at 0x7fa17489d990>"
            ]
          },
          "metadata": {
            "tags": []
          },
          "execution_count": 18
        },
        {
          "output_type": "display_data",
          "data": {
            "image/png": "[encoded data removed]",
            "text/plain": [
              "<Figure size 432x288 with 1 Axes>"
            ]
          },
          "metadata": {
            "tags": [],
            "needs_background": "light"
          }
        }
      ]
    },
    {
      "cell_type": "code",
      "metadata": {
        "id": "xA463HezNtFQ"
      },
      "source": [
        "#to find the correlation between them\n",
        "cor = df.corr()"
      ],
      "execution_count": null,
      "outputs": []
    },
    {
      "cell_type": "code",
      "metadata": {
        "colab": {
          "base_uri": "https://localhost:8080/",
          "height": 286
        },
        "id": "1m03qDKIOm64",
        "outputId": "6a241137-207b-4036-e117-5ccf71381f5c"
      },
      "source": [
        "sns.heatmap(cor, annot = True)"
      ],
      "execution_count": null,
      "outputs": [
        {
          "output_type": "execute_result",
          "data": {
            "text/plain": [
              "<matplotlib.axes._subplots.AxesSubplot at 0x7fa1746f6f50>"
            ]
          },
          "metadata": {
            "tags": []
          },
          "execution_count": 20
        },
        {
          "output_type": "display_data",
          "data": {
            "image/png": "[encoded data removed]",
            "text/plain": [
              "<Figure size 432x288 with 2 Axes>"
            ]
          },
          "metadata": {
            "tags": [],
            "needs_background": "light"
          }
        }
      ]
    },
    {
      "cell_type": "markdown",
      "metadata": {
        "id": "azT4mj1RO1Nm"
      },
      "source": [
        "We can deduce from the above heatmap that Sales and Profit are correlated."
      ]
    },
    {
      "cell_type": "markdown",
      "metadata": {
        "id": "Vdcx6oB1PgDR"
      },
      "source": [
        "**State vs Profit**"
      ]
    },
    {
      "cell_type": "code",
      "metadata": {
        "colab": {
          "base_uri": "https://localhost:8080/"
        },
        "id": "BAl089D8OrfQ",
        "outputId": "fc39d6ef-b02a-427e-81d1-571ba20135c6"
      },
      "source": [
        "sales_profit = df.groupby(\"State\")[\"Profit\"].sum()\n",
        "sales_profit"
      ],
      "execution_count": null,
      "outputs": [
        {
          "output_type": "execute_result",
          "data": {
            "text/plain": [
              "State\n",
              "Alabama                  5786.8253\n",
              "Arizona                 -3427.9246\n",
              "Arkansas                 4008.6871\n",
              "California              76215.9705\n",
              "Colorado                -6527.8579\n",
              "Connecticut              3511.4918\n",
              "Delaware                 9977.3748\n",
              "District of Columbia     1059.5893\n",
              "Florida                 -3399.3017\n",
              "Georgia                 16250.0433\n",
              "Idaho                     826.7231\n",
              "Illinois               -12593.2976\n",
              "Indiana                 18382.9363\n",
              "Iowa                     1183.8119\n",
              "Kansas                    836.4435\n",
              "Kentucky                11199.6966\n",
              "Louisiana                2196.1023\n",
              "Maine                     454.4862\n",
              "Maryland                 7031.1788\n",
              "Massachusetts            6785.5016\n",
              "Michigan                24428.0903\n",
              "Minnesota               10823.1874\n",
              "Mississippi              3172.9762\n",
              "Missouri                 6436.2105\n",
              "Montana                  1833.3285\n",
              "Nebraska                 2037.0942\n",
              "Nevada                   3316.7659\n",
              "New Hampshire            1706.5028\n",
              "New Jersey               9772.9138\n",
              "New Mexico               1157.1161\n",
              "New York                74006.1552\n",
              "North Carolina          -7490.9122\n",
              "North Dakota              230.1497\n",
              "Ohio                   -16959.3178\n",
              "Oklahoma                 4853.9560\n",
              "Oregon                  -1194.0993\n",
              "Pennsylvania           -15591.3148\n",
              "Rhode Island             7285.6293\n",
              "South Carolina           1769.0566\n",
              "South Dakota              394.8283\n",
              "Tennessee               -5341.6936\n",
              "Texas                  -25753.1635\n",
              "Utah                     2546.5335\n",
              "Vermont                  2244.9783\n",
              "Virginia                18597.9504\n",
              "Washington              33368.2375\n",
              "West Virginia             185.9216\n",
              "Wisconsin                8401.8004\n",
              "Wyoming                   100.1960\n",
              "Name: Profit, dtype: float64"
            ]
          },
          "metadata": {
            "tags": []
          },
          "execution_count": 21
        }
      ]
    },
    {
      "cell_type": "code",
      "metadata": {
        "colab": {
          "base_uri": "https://localhost:8080/",
          "height": 531
        },
        "id": "aR8sTCa4Pnrz",
        "outputId": "92e84ed1-80ec-4ed7-c548-1de52f9fb524"
      },
      "source": [
        "plt.figure(figsize = (12,7))\n",
        "sns.barplot(x = sales_profit.index, y=sales_profit.values)\n",
        "plt.ylabel(\"Profit\")\n",
        "plt.xticks(rotation=90)\n",
        "plt.show()"
      ],
      "execution_count": null,
      "outputs": [
        {
          "output_type": "display_data",
          "data": {
            "image/png": "[encoded data removed]",
            "text/plain": [
              "<Figure size 864x504 with 1 Axes>"
            ]
          },
          "metadata": {
            "tags": [],
            "needs_background": "light"
          }
        }
      ]
    },
    {
      "cell_type": "markdown",
      "metadata": {
        "id": "qNyo0FcGQEXI"
      },
      "source": [
        "We can infer from the above barplot that the states - California and New York are having the highest profit while Ohio, Pennsylvania and Texas are having the highest losses or least profits( negative )."
      ]
    },
    {
      "cell_type": "markdown",
      "metadata": {
        "id": "wCLoNTO7QylO"
      },
      "source": [
        "**Category vs Profit**"
      ]
    },
    {
      "cell_type": "code",
      "metadata": {
        "colab": {
          "base_uri": "https://localhost:8080/"
        },
        "id": "jgReUz82PzOy",
        "outputId": "68ca4165-93d4-4c05-c07f-413f7477f9ee"
      },
      "source": [
        "sales_profit1 = df.groupby(\"Category\")[\"Profit\"].sum()\n",
        "sales_profit1"
      ],
      "execution_count": null,
      "outputs": [
        {
          "output_type": "execute_result",
          "data": {
            "text/plain": [
              "Category\n",
              "Furniture           18484.9459\n",
              "Office Supplies    122196.0726\n",
              "Technology         145416.5394\n",
              "Name: Profit, dtype: float64"
            ]
          },
          "metadata": {
            "tags": []
          },
          "execution_count": 23
        }
      ]
    },
    {
      "cell_type": "code",
      "metadata": {
        "colab": {
          "base_uri": "https://localhost:8080/",
          "height": 399
        },
        "id": "NSUDvJyFQ5XI",
        "outputId": "ceb0ba6f-adf4-4b02-cea4-bc0c143def4b"
      },
      "source": [
        "plt.figure(figsize = (5,5))\n",
        "sns.barplot(x = sales_profit1.index, y=sales_profit1.values)\n",
        "plt.ylabel(\"Profit\")\n",
        "plt.xticks(rotation=90)\n",
        "plt.show()"
      ],
      "execution_count": null,
      "outputs": [
        {
          "output_type": "display_data",
          "data": {
            "image/png": "[encoded data removed]",
            "text/plain": [
              "<Figure size 360x360 with 1 Axes>"
            ]
          },
          "metadata": {
            "tags": [],
            "needs_background": "light"
          }
        }
      ]
    },
    {
      "cell_type": "markdown",
      "metadata": {
        "id": "hN3ZhBEARc8Z"
      },
      "source": [
        "We can see that the profits are least for furniture."
      ]
    },
    {
      "cell_type": "markdown",
      "metadata": {
        "id": "3hppmUZfR4Us"
      },
      "source": [
        "**Region vs Count**"
      ]
    },
    {
      "cell_type": "code",
      "metadata": {
        "colab": {
          "base_uri": "https://localhost:8080/",
          "height": 350
        },
        "id": "mbW4yvQkRCZa",
        "outputId": "811df343-c7db-412d-e1d4-68900e7a14ad"
      },
      "source": [
        "sns.countplot(\"Region\", data=df)"
      ],
      "execution_count": null,
      "outputs": [
        {
          "output_type": "stream",
          "text": [
            "/usr/local/lib/python3.7/dist-packages/seaborn/_decorators.py:43: FutureWarning: Pass the following variable as a keyword arg: x. From version 0.12, the only valid positional argument will be `data`, and passing other arguments without an explicit keyword will result in an error or misinterpretation.\n",
            "  FutureWarning\n"
          ],
          "name": "stderr"
        },
        {
          "output_type": "execute_result",
          "data": {
            "text/plain": [
              "<matplotlib.axes._subplots.AxesSubplot at 0x7fa16bb62bd0>"
            ]
          },
          "metadata": {
            "tags": []
          },
          "execution_count": 25
        },
        {
          "output_type": "display_data",
          "data": {
            "image/png": "[encoded data removed]",
            "text/plain": [
              "<Figure size 432x288 with 1 Axes>"
            ]
          },
          "metadata": {
            "tags": [],
            "needs_background": "light"
          }
        }
      ]
    },
    {
      "cell_type": "markdown",
      "metadata": {
        "id": "vMMqmrJ1SCdR"
      },
      "source": [
        "South contributes the least to sales"
      ]
    },
    {
      "cell_type": "markdown",
      "metadata": {
        "id": "qWOaeN3xSXoT"
      },
      "source": [
        "**Segment vs Count**"
      ]
    },
    {
      "cell_type": "code",
      "metadata": {
        "colab": {
          "base_uri": "https://localhost:8080/",
          "height": 350
        },
        "id": "T2kDzS07SA23",
        "outputId": "d5cdc6e1-f63a-40c8-b964-e87ff7a42c40"
      },
      "source": [
        "sns.countplot(\"Segment\", data=df)"
      ],
      "execution_count": null,
      "outputs": [
        {
          "output_type": "stream",
          "text": [
            "/usr/local/lib/python3.7/dist-packages/seaborn/_decorators.py:43: FutureWarning: Pass the following variable as a keyword arg: x. From version 0.12, the only valid positional argument will be `data`, and passing other arguments without an explicit keyword will result in an error or misinterpretation.\n",
            "  FutureWarning\n"
          ],
          "name": "stderr"
        },
        {
          "output_type": "execute_result",
          "data": {
            "text/plain": [
              "<matplotlib.axes._subplots.AxesSubplot at 0x7fa16bb3f3d0>"
            ]
          },
          "metadata": {
            "tags": []
          },
          "execution_count": 26
        },
        {
          "output_type": "display_data",
          "data": {
            "image/png": "[encoded data removed]",
            "text/plain": [
              "<Figure size 432x288 with 1 Axes>"
            ]
          },
          "metadata": {
            "tags": [],
            "needs_background": "light"
          }
        }
      ]
    },
    {
      "cell_type": "markdown",
      "metadata": {
        "id": "x0DYQLZqSjCi"
      },
      "source": [
        "Home office segment makes the least sales"
      ]
    },
    {
      "cell_type": "markdown",
      "metadata": {
        "id": "KMJ20rHYS3Ux"
      },
      "source": [
        "**Sub-Category vs Region**"
      ]
    },
    {
      "cell_type": "code",
      "metadata": {
        "colab": {
          "base_uri": "https://localhost:8080/",
          "height": 508
        },
        "id": "26guRKMqSWZv",
        "outputId": "6dd10cde-1c49-4837-f686-eff044fc3f1e"
      },
      "source": [
        "plt.figure(figsize=(15,7))\n",
        "sns.countplot(x=\"Sub-Category\", hue= \"Region\", data=df)\n",
        "plt.xticks(rotation=\"vertical\")\n",
        "plt.plot()"
      ],
      "execution_count": null,
      "outputs": [
        {
          "output_type": "execute_result",
          "data": {
            "text/plain": [
              "[]"
            ]
          },
          "metadata": {
            "tags": []
          },
          "execution_count": 27
        },
        {
          "output_type": "display_data",
          "data": {
            "image/png": "[encoded data removed]",
            "text/plain": [
              "<Figure size 1080x504 with 1 Axes>"
            ]
          },
          "metadata": {
            "tags": [],
            "needs_background": "light"
          }
        }
      ]
    },
    {
      "cell_type": "markdown",
      "metadata": {
        "id": "fMIjhn2NTD6q"
      },
      "source": [
        "Copiers, Machines and Supplies are the least sold products overall . South accounts for the least sales in any of the sub-categories."
      ]
    },
    {
      "cell_type": "markdown",
      "metadata": {
        "id": "WNYz24OZT3C2"
      },
      "source": [
        "**Sales per State**"
      ]
    },
    {
      "cell_type": "code",
      "metadata": {
        "colab": {
          "base_uri": "https://localhost:8080/",
          "height": 521
        },
        "id": "6SFgMvNJS_am",
        "outputId": "2d574d34-6766-412c-a64e-56ffbd239de6"
      },
      "source": [
        "sales = df.groupby(\"State\")[\"Sales\"].sum().sort_values(ascending=False)\n",
        "sales.plot.bar(figsize=(30,10))"
      ],
      "execution_count": null,
      "outputs": [
        {
          "output_type": "execute_result",
          "data": {
            "text/plain": [
              "<matplotlib.axes._subplots.AxesSubplot at 0x7fa16b8e6a90>"
            ]
          },
          "metadata": {
            "tags": []
          },
          "execution_count": 28
        },
        {
          "output_type": "display_data",
          "data": {
            "image/png": "[encoded data removed]",
            "text/plain": [
              "<Figure size 2160x720 with 1 Axes>"
            ]
          },
          "metadata": {
            "tags": [],
            "needs_background": "light"
          }
        }
      ]
    },
    {
      "cell_type": "markdown",
      "metadata": {
        "id": "m9R_xw2qUC_u"
      },
      "source": [
        "\n",
        "\n",
        "\n",
        "1.   Highest sales- California, New York and Texas\n",
        "2.   Least sales- North Dakota, West Virginia, Maine and South Dakota\n",
        "\n",
        "\n",
        "\n"
      ]
    },
    {
      "cell_type": "markdown",
      "metadata": {
        "id": "WCoHYehCUzFg"
      },
      "source": [
        "**Profit and sales for sub-categories**"
      ]
    },
    {
      "cell_type": "code",
      "metadata": {
        "colab": {
          "base_uri": "https://localhost:8080/",
          "height": 617
        },
        "id": "N7Y63M-5T-pv",
        "outputId": "a72189b1-5cc4-407e-faff-c110ee832771"
      },
      "source": [
        "category = df.groupby(\"Sub-Category\")[\"Profit\", \"Sales\"].sum()\n",
        "category.plot.bar(figsize=(12,8))"
      ],
      "execution_count": null,
      "outputs": [
        {
          "output_type": "stream",
          "text": [
            "/usr/local/lib/python3.7/dist-packages/ipykernel_launcher.py:1: FutureWarning: Indexing with multiple keys (implicitly converted to a tuple of keys) will be deprecated, use a list instead.\n",
            "  \"\"\"Entry point for launching an IPython kernel.\n"
          ],
          "name": "stderr"
        },
        {
          "output_type": "execute_result",
          "data": {
            "text/plain": [
              "<matplotlib.axes._subplots.AxesSubplot at 0x7fa16b96fa50>"
            ]
          },
          "metadata": {
            "tags": []
          },
          "execution_count": 29
        },
        {
          "output_type": "display_data",
          "data": {
            "image/png": "[encoded data removed]",
            "text/plain": [
              "<Figure size 864x576 with 1 Axes>"
            ]
          },
          "metadata": {
            "tags": [],
            "needs_background": "light"
          }
        }
      ]
    },
    {
      "cell_type": "markdown",
      "metadata": {
        "id": "JiNGM3NPVQ3n"
      },
      "source": [
        "Conclusion :\n",
        "\n",
        "1. We can deduce that our sales are higher as compared to our profit.\n",
        "2. Tables, Bookcases and Supplies are responsible for maximum losses( in negative)\n",
        "\n",
        "Weak Areas :\n",
        "1. Though Copiers are the least sold products it makes most of the profit so, we must look for ways to improve the sales of the Copiers.\n",
        "2. Tables should either be removed from the market or major changes should be made to tables in order to not incur losses in future.\n",
        "3. We should try to improve our sales in North Dakota, South Dakota , West Virginia and Columbia using new techniques.\n",
        "4. Our sales at Illinois, Ohio, Texas and Pennsylvania are making losses so we must concentrate on the loss making issues in this region.\n",
        "\n",
        "So , in order to improve our sales and profit we must pay special attention to our losses and strengthen our weak areas as mentioned above."
      ]
    }
  ]
}